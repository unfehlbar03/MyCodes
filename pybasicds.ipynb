{
 "cells": [
  {
   "cell_type": "code",
   "execution_count": 3,
   "metadata": {},
   "outputs": [
    {
     "name": "stdout",
     "output_type": "stream",
     "text": [
      "apple\n",
      "kivi\n",
      "['apple', 'mango', 'litchi']\n",
      "4\n",
      "['apple', 'mango', 'litchi', 'kivi', 'Earth', 'Air', 'Fire', 'Water']\n"
     ]
    }
   ],
   "source": [
    "x = ['apple', 'mango','litchi', 'kivi']\n",
    "print(x[0])\n",
    "print(x[-1])\n",
    "print(x[:3])\n",
    "print(len(x))\n",
    "names = ['Earth','Air','Fire','Water']\n",
    "print(x+names)"
   ]
  },
  {
   "cell_type": "code",
   "execution_count": 5,
   "metadata": {},
   "outputs": [
    {
     "name": "stdout",
     "output_type": "stream",
     "text": [
      "(1, 2, 3)\n",
      "('H', 'e', 'l', 'l', 'o')\n",
      "2\n",
      "('H', 'e', 'l')\n"
     ]
    }
   ],
   "source": [
    "tup1 = tuple([1,2,3])\n",
    "print (tup1)\n",
    "tup2 = tuple('Hello')\n",
    "print (tup2)\n",
    "print (tup1[1])\n",
    "tup3 = tup2[:3]\n",
    "print (tup3)"
   ]
  },
  {
   "cell_type": "code",
   "execution_count": 13,
   "metadata": {},
   "outputs": [
    {
     "name": "stdout",
     "output_type": "stream",
     "text": [
      "{'One': 1, 'Two': 2, 'Three': 3, 'Four': 4, 'Five': 5}\n",
      "{'One': 1, 'Two': 2, 'Three': 3, 'Five': 5}\n",
      "{'One': 1, 'Two': 2, 'Three': 3}\n",
      "{}\n"
     ]
    }
   ],
   "source": [
    "names = ['One', 'Two', 'Three', 'Four', 'Five']\n",
    "numbers = [1, 2, 3, 4, 5]\n",
    "d2 = zip(names,numbers)\n",
    "a1 = dict(d2)\n",
    "print(a1)\n",
    "\n",
    "a1.pop('Four')\n",
    "print(a1)\n",
    "a1.popitem()\n",
    "print(a1)\n",
    "a1.clear()\n",
    "print(a1)"
   ]
  }
 ],
 "metadata": {
  "kernelspec": {
   "display_name": "Python 3",
   "language": "python",
   "name": "python3"
  },
  "language_info": {
   "codemirror_mode": {
    "name": "ipython",
    "version": 3
   },
   "file_extension": ".py",
   "mimetype": "text/x-python",
   "name": "python",
   "nbconvert_exporter": "python",
   "pygments_lexer": "ipython3",
   "version": "3.8.3"
  }
 },
 "nbformat": 4,
 "nbformat_minor": 4
}
